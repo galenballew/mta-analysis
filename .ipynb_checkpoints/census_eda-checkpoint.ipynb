{
 "cells": [
  {
   "cell_type": "markdown",
   "metadata": {},
   "source": [
    "This notebook parses census data from the American Community Survey website. The csv files included are for New York, NY, broken into 5-Digit Zip Code Tabulation Areas, and relate to household income (S1901) and public transportation commuting (S0801).\n",
    "\n",
    "[Source](https://factfinder.census.gov/faces/nav/jsf/pages/searchresults.xhtml?refresh=t)\n",
    "\n",
    "We used this data to identify zip codes to be investigated further through turnstile data."
   ]
  },
  {
   "cell_type": "code",
   "execution_count": 1,
   "metadata": {
    "collapsed": true
   },
   "outputs": [],
   "source": [
    "import pandas as pd\n",
    "import numpy as np\n",
    "\n",
    "import matplotlib.pyplot as plt\n",
    "%matplotlib inline\n",
    "\n",
    "import seaborn as sns\n",
    "sns.set_style('white')"
   ]
  },
  {
   "cell_type": "code",
   "execution_count": 6,
   "metadata": {
    "collapsed": true
   },
   "outputs": [],
   "source": [
    "#store the files for reference\n",
    "income_raw = 'data/raw/ACS_15_5YR_S1901/ACS_15_5YR_S1901_with_ann.csv'\n",
    "commute_raw = 'data/raw/ACS_15_5YR_S0801/ACS_15_5YR_S0801.csv'"
   ]
  },
  {
   "cell_type": "code",
   "execution_count": 7,
   "metadata": {
    "collapsed": false
   },
   "outputs": [],
   "source": [
    "#import census files and call columns for household income, commute by public transportation to work, and zip code\n",
    "income_df = pd.read_csv(income_raw,\n",
    "                       usecols = ['GEO.display-label', 'HC01_EST_VC01', 'HC01_EST_VC09', 'HC04_EST_VC10','HC01_EST_VC11']\n",
    "                       )\n",
    "\n",
    "commute_df = pd.read_csv(commute_raw, \n",
    "                         usecols = ['GEO.display-label', 'HC01_EST_VC10']\n",
    "                        )\n",
    "\n",
    "dfs = [income_df, commute_df]\n",
    "\n",
    "for df in dfs:\n",
    "    df.drop(0, inplace=True)\n",
    "    df.reset_index(drop=True)"
   ]
  },
  {
   "cell_type": "code",
   "execution_count": 8,
   "metadata": {
    "collapsed": false
   },
   "outputs": [],
   "source": [
    "income_df.rename(columns = { 'GEO.display-label': 'zip_code',\n",
    "                            'HC01_EST_VC01': 'total_households',\n",
    "                           'HC01_EST_VC09': 'percent_100_149k',\n",
    "                           'HC04_EST_VC10': 'percent_150_199k',\n",
    "                           'HC01_EST_VC11': 'percent_200k_over'},\n",
    "                 inplace=True\n",
    "                )"
   ]
  },
  {
   "cell_type": "code",
   "execution_count": 6,
   "metadata": {
    "collapsed": false
   },
   "outputs": [],
   "source": [
    "commute_df.rename(columns = {'GEO.display-label': 'zip_code',\n",
    "                            'HC01_EST_VC10': 'percent_public_trans'},\n",
    "                 inplace = True\n",
    "                 )"
   ]
  },
  {
   "cell_type": "code",
   "execution_count": 7,
   "metadata": {
    "collapsed": false
   },
   "outputs": [],
   "source": [
    "for df in dfs:\n",
    "    df['zip_code'] = df['zip_code'].map(lambda x : str(x)[-5:])"
   ]
  },
  {
   "cell_type": "code",
   "execution_count": 8,
   "metadata": {
    "collapsed": false
   },
   "outputs": [],
   "source": [
    "for df in dfs:\n",
    "    df.set_index('zip_code', inplace=True)"
   ]
  },
  {
   "cell_type": "code",
   "execution_count": 9,
   "metadata": {
    "collapsed": false
   },
   "outputs": [
    {
     "data": {
      "text/plain": [
       "49"
      ]
     },
     "execution_count": 9,
     "metadata": {},
     "output_type": "execute_result"
    }
   ],
   "source": [
    "commute_df['percent_public_trans'].isnull().sum()"
   ]
  },
  {
   "cell_type": "code",
   "execution_count": 10,
   "metadata": {
    "collapsed": false
   },
   "outputs": [],
   "source": [
    "commute_df['percent_public_trans'].fillna(0, inplace=True)"
   ]
  },
  {
   "cell_type": "code",
   "execution_count": 11,
   "metadata": {
    "collapsed": false
   },
   "outputs": [
    {
     "data": {
      "text/plain": [
       "True"
      ]
     },
     "execution_count": 11,
     "metadata": {},
     "output_type": "execute_result"
    }
   ],
   "source": [
    "len(income_df[income_df['percent_100_149k'] == '-']) == len(income_df[income_df['percent_150_199k'] == '-']) == len(income_df[income_df['percent_200k_over'] == '-'])"
   ]
  },
  {
   "cell_type": "code",
   "execution_count": 12,
   "metadata": {
    "collapsed": false
   },
   "outputs": [],
   "source": [
    "percents = {\n",
    "            'percent_100_149k': 'total_100_149k',\n",
    "            'percent_150_199k': 'total_150_199k',\n",
    "            'percent_200k_over': 'total_200k_over'\n",
    "           }"
   ]
  },
  {
   "cell_type": "code",
   "execution_count": 13,
   "metadata": {
    "collapsed": false
   },
   "outputs": [],
   "source": [
    "for percent in percents:\n",
    "    income_df.loc[income_df[percent] == '-', percent] = 0"
   ]
  },
  {
   "cell_type": "code",
   "execution_count": 14,
   "metadata": {
    "collapsed": false
   },
   "outputs": [],
   "source": [
    "income_df['total_households'] = income_df['total_households'].apply(float)\n",
    "\n",
    "for percent in percents:\n",
    "    income_df[percent] = income_df[percent].apply(float)\n",
    "\n",
    "commute_df['percent_public_trans'] = commute_df['percent_public_trans'].apply(float)"
   ]
  },
  {
   "cell_type": "code",
   "execution_count": 15,
   "metadata": {
    "collapsed": false
   },
   "outputs": [
    {
     "data": {
      "text/html": [
       "<div>\n",
       "<table border=\"1\" class=\"dataframe\">\n",
       "  <thead>\n",
       "    <tr style=\"text-align: right;\">\n",
       "      <th></th>\n",
       "      <th>total_households</th>\n",
       "      <th>percent_100_149k</th>\n",
       "      <th>percent_150_199k</th>\n",
       "      <th>percent_200k_over</th>\n",
       "    </tr>\n",
       "    <tr>\n",
       "      <th>zip_code</th>\n",
       "      <th></th>\n",
       "      <th></th>\n",
       "      <th></th>\n",
       "      <th></th>\n",
       "    </tr>\n",
       "  </thead>\n",
       "  <tbody>\n",
       "    <tr>\n",
       "      <th>10001</th>\n",
       "      <td>11639.0</td>\n",
       "      <td>13.2</td>\n",
       "      <td>10.3</td>\n",
       "      <td>22.1</td>\n",
       "    </tr>\n",
       "    <tr>\n",
       "      <th>10002</th>\n",
       "      <td>33348.0</td>\n",
       "      <td>8.5</td>\n",
       "      <td>3.9</td>\n",
       "      <td>5.9</td>\n",
       "    </tr>\n",
       "    <tr>\n",
       "      <th>10003</th>\n",
       "      <td>27487.0</td>\n",
       "      <td>15.2</td>\n",
       "      <td>10.9</td>\n",
       "      <td>22.5</td>\n",
       "    </tr>\n",
       "    <tr>\n",
       "      <th>10004</th>\n",
       "      <td>1574.0</td>\n",
       "      <td>22.0</td>\n",
       "      <td>12.8</td>\n",
       "      <td>28.0</td>\n",
       "    </tr>\n",
       "    <tr>\n",
       "      <th>10005</th>\n",
       "      <td>4252.0</td>\n",
       "      <td>24.6</td>\n",
       "      <td>12.9</td>\n",
       "      <td>27.4</td>\n",
       "    </tr>\n",
       "  </tbody>\n",
       "</table>\n",
       "</div>"
      ],
      "text/plain": [
       "          total_households  percent_100_149k  percent_150_199k  \\\n",
       "zip_code                                                         \n",
       "10001              11639.0              13.2              10.3   \n",
       "10002              33348.0               8.5               3.9   \n",
       "10003              27487.0              15.2              10.9   \n",
       "10004               1574.0              22.0              12.8   \n",
       "10005               4252.0              24.6              12.9   \n",
       "\n",
       "          percent_200k_over  \n",
       "zip_code                     \n",
       "10001                  22.1  \n",
       "10002                   5.9  \n",
       "10003                  22.5  \n",
       "10004                  28.0  \n",
       "10005                  27.4  "
      ]
     },
     "execution_count": 15,
     "metadata": {},
     "output_type": "execute_result"
    }
   ],
   "source": [
    "income_df.head()"
   ]
  },
  {
   "cell_type": "code",
   "execution_count": 16,
   "metadata": {
    "collapsed": false
   },
   "outputs": [],
   "source": [
    "for percent, total in percents.items():\n",
    "    income_df[total] = (income_df['total_households'] * income_df[percent]).apply(round)/100"
   ]
  },
  {
   "cell_type": "code",
   "execution_count": 17,
   "metadata": {
    "collapsed": false
   },
   "outputs": [],
   "source": [
    "income_df['total_100k_over'] = income_df[percents.values()].sum(axis=1)"
   ]
  },
  {
   "cell_type": "code",
   "execution_count": 18,
   "metadata": {
    "collapsed": false
   },
   "outputs": [
    {
     "data": {
      "text/plain": [
       "['total_100_149k', 'total_150_199k', 'total_200k_over']"
      ]
     },
     "execution_count": 18,
     "metadata": {},
     "output_type": "execute_result"
    }
   ],
   "source": [
    "percents.values()"
   ]
  },
  {
   "cell_type": "code",
   "execution_count": 19,
   "metadata": {
    "collapsed": false
   },
   "outputs": [],
   "source": [
    "census_df = income_df.join(commute_df)"
   ]
  },
  {
   "cell_type": "code",
   "execution_count": 20,
   "metadata": {
    "collapsed": false
   },
   "outputs": [
    {
     "data": {
      "text/plain": [
       "count    215.000000\n",
       "mean      45.092093\n",
       "std       23.916019\n",
       "min        0.000000\n",
       "25%       31.800000\n",
       "50%       52.100000\n",
       "75%       65.550000\n",
       "max       89.000000\n",
       "Name: percent_public_trans, dtype: float64"
      ]
     },
     "execution_count": 20,
     "metadata": {},
     "output_type": "execute_result"
    }
   ],
   "source": [
    "census_df['percent_public_trans'].describe()"
   ]
  },
  {
   "cell_type": "code",
   "execution_count": 24,
   "metadata": {
    "collapsed": false
   },
   "outputs": [
    {
     "data": {
      "image/png": "[encoded data removed]",
      "text/plain": [
       "<matplotlib.figure.Figure at 0x118166c50>"
      ]
     },
     "metadata": {},
     "output_type": "display_data"
    }
   ],
   "source": [
    "scatter = sns.regplot(x = 'total_200k_over',\n",
    "            y = 'percent_public_trans',\n",
    "            data = census_df, \n",
    "            scatter = True,\n",
    "            fit_reg = False, \n",
    "            scatter_kws={'alpha': 0.75}\n",
    "           );\n",
    "\n",
    "#scatter.axes.set_title('Total Household Income vs. Percent Commuting to Work by Public Transportation');\n",
    "\n",
    "scatter.vlines(2000, 0, 100, linestyle='dashed', colors='grey')\n",
    "scatter.hlines(68, 0, 10000, linestyle='dashed', colors='grey')\n",
    "scatter.set_xbound([0, 10000])\n",
    "scatter.set_ybound([0, 100])\n",
    "\n",
    "scatter.set_xlabel('Total Households Earning $200,000 or More')\n",
    "scatter.set_ylabel('Percent Commuting to Work by Public Transporation (%)');\n",
    "\n",
    "x_vals = scatter.get_xticks()\n",
    "scatter.set_xticklabels([format(int(x), ',') for x in x_vals]);\n",
    "\n",
    "y_vals = scatter.get_yticks()\n",
    "scatter.set_yticklabels(['%d%%' % y for y in y_vals]);\n",
    "\n",
    "scatter.get_figure().savefig('figures/scatter.png')"
   ]
  },
  {
   "cell_type": "code",
   "execution_count": 25,
   "metadata": {
    "collapsed": false
   },
   "outputs": [],
   "source": [
    "potential_zips = census_df[census_df['total_200k_over'] >= 200000]\n",
    "potential_zips = potential_zips[potential_zips['percent_public_trans'] >= 68]"
   ]
  },
  {
   "cell_type": "code",
   "execution_count": 26,
   "metadata": {
    "collapsed": false
   },
   "outputs": [
    {
     "data": {
      "text/plain": [
       "array([], dtype=object)"
      ]
     },
     "execution_count": 26,
     "metadata": {},
     "output_type": "execute_result"
    }
   ],
   "source": [
    "potential_zips.index.values"
   ]
  },
  {
   "cell_type": "code",
   "execution_count": null,
   "metadata": {
    "collapsed": true
   },
   "outputs": [],
   "source": []
  }
 ],
 "metadata": {
  "anaconda-cloud": {},
  "kernelspec": {
   "display_name": "Python [default]",
   "language": "python",
   "name": "python2"
  },
  "language_info": {
   "codemirror_mode": {
    "name": "ipython",
    "version": 2
   },
   "file_extension": ".py",
   "mimetype": "text/x-python",
   "name": "python",
   "nbconvert_exporter": "python",
   "pygments_lexer": "ipython2",
   "version": "2.7.12"
  }
 },
 "nbformat": 4,
 "nbformat_minor": 1
}
