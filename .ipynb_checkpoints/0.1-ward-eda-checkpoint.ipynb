{
 "cells": [
  {
   "cell_type": "code",
   "execution_count": 1,
   "metadata": {
    "collapsed": true
   },
   "outputs": [],
   "source": [
    "import pandas as pd\n",
    "import numpy as np\n",
    "import matplotlib.pyplot as plt\n",
    "%matplotlib inline"
   ]
  },
  {
   "cell_type": "code",
   "execution_count": 2,
   "metadata": {
    "collapsed": false
   },
   "outputs": [
    {
     "name": "stdout",
     "output_type": "stream",
     "text": [
      "('Pandas version:', u'0.18.1')\n",
      "('Numpy version:', '1.11.1')\n"
     ]
    }
   ],
   "source": [
    "print(\"Pandas version:\",pd.__version__)\n",
    "print(\"Numpy version:\",np.__version__)"
   ]
  },
  {
   "cell_type": "markdown",
   "metadata": {},
   "source": [
    "**Challenge 1**\n",
    "\n",
    "Open up a new IPython notebook"
   ]
  },
  {
   "cell_type": "markdown",
   "metadata": {},
   "source": [
    "Download a few MTA turnstile data files"
   ]
  },
  {
   "cell_type": "code",
   "execution_count": 20,
   "metadata": {
    "collapsed": true
   },
   "outputs": [],
   "source": [
    "#MTA Turnstile data from week of April 30, 2016\n",
    "df = pd.read_csv('http://web.mta.info/developers/data/nyct/turnstile/turnstile_160507.txt')"
   ]
  },
  {
   "cell_type": "markdown",
   "metadata": {},
   "source": [
    "Open up a file, use csv reader to read it, make a python dict where there is a key for each (C/A, UNIT, SCP, STATION). These are the first four columns. The value for this key should be a list of lists. Each list in the list is the rest of the columns in a row. For example, one key-value pair should look like\n",
    "\n",
    "`{ ('A002','R051','02-00-00','LEXINGTON AVE'): [ ['NQR456', 'BMT', '01/03/2015', '03:00:00', 'REGULAR', '0004945474', '0001675324'], ['NQR456', 'BMT', '01/03/2015', '07:00:00', 'REGULAR', '0004945478', '0001675333'], ['NQR456', 'BMT', '01/03/2015', '11:00:00', 'REGULAR', '0004945515', '0001675364'], ... ] }`"
   ]
  },
  {
   "cell_type": "code",
   "execution_count": 21,
   "metadata": {
    "collapsed": false
   },
   "outputs": [
    {
     "data": {
      "text/html": [
       "<div>\n",
       "<table border=\"1\" class=\"dataframe\">\n",
       "  <thead>\n",
       "    <tr style=\"text-align: right;\">\n",
       "      <th></th>\n",
       "      <th>C/A</th>\n",
       "      <th>UNIT</th>\n",
       "      <th>SCP</th>\n",
       "      <th>STATION</th>\n",
       "      <th>LINENAME</th>\n",
       "      <th>DIVISION</th>\n",
       "      <th>DATE</th>\n",
       "      <th>TIME</th>\n",
       "      <th>DESC</th>\n",
       "      <th>ENTRIES</th>\n",
       "      <th>EXITS</th>\n",
       "    </tr>\n",
       "  </thead>\n",
       "  <tbody>\n",
       "    <tr>\n",
       "      <th>136393</th>\n",
       "      <td>R175</td>\n",
       "      <td>R169</td>\n",
       "      <td>01-00-04</td>\n",
       "      <td>137 ST CITY COL</td>\n",
       "      <td>1</td>\n",
       "      <td>IRT</td>\n",
       "      <td>04/30/2016</td>\n",
       "      <td>13:00:00</td>\n",
       "      <td>REGULAR</td>\n",
       "      <td>604660744</td>\n",
       "      <td>869456549</td>\n",
       "    </tr>\n",
       "    <tr>\n",
       "      <th>184635</th>\n",
       "      <td>R608</td>\n",
       "      <td>R056</td>\n",
       "      <td>00-00-01</td>\n",
       "      <td>NEVINS ST</td>\n",
       "      <td>2345</td>\n",
       "      <td>IRT</td>\n",
       "      <td>05/02/2016</td>\n",
       "      <td>04:00:00</td>\n",
       "      <td>REGULAR</td>\n",
       "      <td>8592937</td>\n",
       "      <td>4496531</td>\n",
       "    </tr>\n",
       "    <tr>\n",
       "      <th>99198</th>\n",
       "      <td>N525</td>\n",
       "      <td>R142</td>\n",
       "      <td>01-00-04</td>\n",
       "      <td>DELANCEY/ESSEX</td>\n",
       "      <td>FJMZ</td>\n",
       "      <td>IND</td>\n",
       "      <td>04/30/2016</td>\n",
       "      <td>01:00:00</td>\n",
       "      <td>REGULAR</td>\n",
       "      <td>10131667</td>\n",
       "      <td>9174032</td>\n",
       "    </tr>\n",
       "    <tr>\n",
       "      <th>88140</th>\n",
       "      <td>N343</td>\n",
       "      <td>R019</td>\n",
       "      <td>00-00-02</td>\n",
       "      <td>JAMAICA 179 ST</td>\n",
       "      <td>F</td>\n",
       "      <td>IND</td>\n",
       "      <td>04/30/2016</td>\n",
       "      <td>16:00:00</td>\n",
       "      <td>REGULAR</td>\n",
       "      <td>5328269</td>\n",
       "      <td>6436782</td>\n",
       "    </tr>\n",
       "    <tr>\n",
       "      <th>130653</th>\n",
       "      <td>R155</td>\n",
       "      <td>R116</td>\n",
       "      <td>01-00-04</td>\n",
       "      <td>50 ST</td>\n",
       "      <td>1</td>\n",
       "      <td>IRT</td>\n",
       "      <td>05/05/2016</td>\n",
       "      <td>08:00:00</td>\n",
       "      <td>REGULAR</td>\n",
       "      <td>4288162</td>\n",
       "      <td>1626681</td>\n",
       "    </tr>\n",
       "    <tr>\n",
       "      <th>123904</th>\n",
       "      <td>R121</td>\n",
       "      <td>R290</td>\n",
       "      <td>01-05-00</td>\n",
       "      <td>HOUSTON ST</td>\n",
       "      <td>1</td>\n",
       "      <td>IRT</td>\n",
       "      <td>04/30/2016</td>\n",
       "      <td>01:00:00</td>\n",
       "      <td>REGULAR</td>\n",
       "      <td>682</td>\n",
       "      <td>0</td>\n",
       "    </tr>\n",
       "    <tr>\n",
       "      <th>122122</th>\n",
       "      <td>R113</td>\n",
       "      <td>R028</td>\n",
       "      <td>01-06-01</td>\n",
       "      <td>FULTON ST</td>\n",
       "      <td>2345ACJZ</td>\n",
       "      <td>IRT</td>\n",
       "      <td>05/01/2016</td>\n",
       "      <td>11:00:00</td>\n",
       "      <td>REGULAR</td>\n",
       "      <td>1546582</td>\n",
       "      <td>1504670</td>\n",
       "    </tr>\n",
       "    <tr>\n",
       "      <th>123427</th>\n",
       "      <td>R118</td>\n",
       "      <td>R343</td>\n",
       "      <td>01-00-00</td>\n",
       "      <td>FRANKLIN ST</td>\n",
       "      <td>1</td>\n",
       "      <td>IRT</td>\n",
       "      <td>05/05/2016</td>\n",
       "      <td>21:00:00</td>\n",
       "      <td>REGULAR</td>\n",
       "      <td>474870</td>\n",
       "      <td>546439</td>\n",
       "    </tr>\n",
       "    <tr>\n",
       "      <th>154151</th>\n",
       "      <td>R248</td>\n",
       "      <td>R178</td>\n",
       "      <td>00-00-06</td>\n",
       "      <td>77 ST</td>\n",
       "      <td>6</td>\n",
       "      <td>IRT</td>\n",
       "      <td>05/04/2016</td>\n",
       "      <td>17:00:00</td>\n",
       "      <td>REGULAR</td>\n",
       "      <td>18939997</td>\n",
       "      <td>4285313</td>\n",
       "    </tr>\n",
       "    <tr>\n",
       "      <th>130797</th>\n",
       "      <td>R155</td>\n",
       "      <td>R116</td>\n",
       "      <td>01-00-07</td>\n",
       "      <td>50 ST</td>\n",
       "      <td>1</td>\n",
       "      <td>IRT</td>\n",
       "      <td>05/06/2016</td>\n",
       "      <td>08:00:00</td>\n",
       "      <td>REGULAR</td>\n",
       "      <td>5617175</td>\n",
       "      <td>7600563</td>\n",
       "    </tr>\n",
       "  </tbody>\n",
       "</table>\n",
       "</div>"
      ],
      "text/plain": [
       "         C/A  UNIT       SCP          STATION  LINENAME DIVISION        DATE  \\\n",
       "136393  R175  R169  01-00-04  137 ST CITY COL         1      IRT  04/30/2016   \n",
       "184635  R608  R056  00-00-01        NEVINS ST      2345      IRT  05/02/2016   \n",
       "99198   N525  R142  01-00-04   DELANCEY/ESSEX      FJMZ      IND  04/30/2016   \n",
       "88140   N343  R019  00-00-02   JAMAICA 179 ST         F      IND  04/30/2016   \n",
       "130653  R155  R116  01-00-04            50 ST         1      IRT  05/05/2016   \n",
       "123904  R121  R290  01-05-00       HOUSTON ST         1      IRT  04/30/2016   \n",
       "122122  R113  R028  01-06-01        FULTON ST  2345ACJZ      IRT  05/01/2016   \n",
       "123427  R118  R343  01-00-00      FRANKLIN ST         1      IRT  05/05/2016   \n",
       "154151  R248  R178  00-00-06            77 ST         6      IRT  05/04/2016   \n",
       "130797  R155  R116  01-00-07            50 ST         1      IRT  05/06/2016   \n",
       "\n",
       "            TIME     DESC    ENTRIES  \\\n",
       "136393  13:00:00  REGULAR  604660744   \n",
       "184635  04:00:00  REGULAR    8592937   \n",
       "99198   01:00:00  REGULAR   10131667   \n",
       "88140   16:00:00  REGULAR    5328269   \n",
       "130653  08:00:00  REGULAR    4288162   \n",
       "123904  01:00:00  REGULAR        682   \n",
       "122122  11:00:00  REGULAR    1546582   \n",
       "123427  21:00:00  REGULAR     474870   \n",
       "154151  17:00:00  REGULAR   18939997   \n",
       "130797  08:00:00  REGULAR    5617175   \n",
       "\n",
       "        EXITS                                                                 \n",
       "136393                                          869456549                     \n",
       "184635                                            4496531                     \n",
       "99198                                             9174032                     \n",
       "88140                                             6436782                     \n",
       "130653                                            1626681                     \n",
       "123904                                                  0                     \n",
       "122122                                            1504670                     \n",
       "123427                                             546439                     \n",
       "154151                                            4285313                     \n",
       "130797                                            7600563                     "
      ]
     },
     "execution_count": 21,
     "metadata": {},
     "output_type": "execute_result"
    }
   ],
   "source": [
    "df = df.sample(10, random_state=16)\n",
    "df"
   ]
  },
  {
   "cell_type": "code",
   "execution_count": 29,
   "metadata": {
    "collapsed": false
   },
   "outputs": [
    {
     "ename": "SyntaxError",
     "evalue": "invalid syntax (<ipython-input-29-d35a462e7da5>, line 1)",
     "output_type": "error",
     "traceback": [
      "\u001b[0;36m  File \u001b[0;32m\"<ipython-input-29-d35a462e7da5>\"\u001b[0;36m, line \u001b[0;32m1\u001b[0m\n\u001b[0;31m    keys_tuple = (df['C/A'], df['UNIT'], df['SCP'], df['STATION'] for _ in len(df))\u001b[0m\n\u001b[0m                                                                    ^\u001b[0m\n\u001b[0;31mSyntaxError\u001b[0m\u001b[0;31m:\u001b[0m invalid syntax\n"
     ]
    }
   ],
   "source": [
    "keys_tuple = (df['C/A'], df['UNIT'], df['SCP'], df['STATION'])\n",
    "keys_tuple\n",
    "#keys_set = set(keys_list)"
   ]
  },
  {
   "cell_type": "code",
   "execution_count": null,
   "metadata": {
    "collapsed": true
   },
   "outputs": [],
   "source": []
  }
 ],
 "metadata": {
  "anaconda-cloud": {},
  "kernelspec": {
   "display_name": "Python [default]",
   "language": "python",
   "name": "python2"
  },
  "language_info": {
   "codemirror_mode": {
    "name": "ipython",
    "version": 2
   },
   "file_extension": ".py",
   "mimetype": "text/x-python",
   "name": "python",
   "nbconvert_exporter": "python",
   "pygments_lexer": "ipython2",
   "version": "2.7.12"
  }
 },
 "nbformat": 4,
 "nbformat_minor": 1
}
